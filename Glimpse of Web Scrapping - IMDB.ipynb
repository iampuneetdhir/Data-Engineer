{
 "cells": [
  {
   "cell_type": "markdown",
   "metadata": {},
   "source": [
    "## Brief of Web-scrapping using Python - IMDB"
   ]
  },
  {
   "cell_type": "markdown",
   "metadata": {},
   "source": [
    "#### Problem Statement: We want to fetch the 'Movie Title', 'Runtime' and 'Genre' for the movie from [this](https://www.imdb.com/search/title/?sort=num_votes,desc&title_type=feature&year=1950,2012) webpage."
   ]
  },
  {
   "cell_type": "markdown",
   "metadata": {},
   "source": [
    "#### Solution Steps:\n",
    "##### 1. Import useful libraries and classes:\n",
    "        urllib request, BeautifulSoup\n",
    "##### 2. Steps:\n",
    "        a. html upload\n",
    "        b. html parser\n",
    "        c. Extraction of data from webpage\n",
    "        d. Transform into required file (csv in this case)."
   ]
  },
  {
   "cell_type": "code",
   "execution_count": 53,
   "metadata": {},
   "outputs": [],
   "source": [
    "# Import useful libraries\n",
    "from urllib.request import urlopen as uReq\n",
    "from bs4 import BeautifulSoup as soup"
   ]
  },
  {
   "cell_type": "code",
   "execution_count": 54,
   "metadata": {},
   "outputs": [],
   "source": [
    "#html upload\n",
    "#Store URL in a variable\n",
    "my_url = \"https://www.imdb.com/search/title/?sort=num_votes,desc&title_type=feature&year=1950,2012\"\n",
    "\n",
    "#Opening the URL and storing the content of it in a variable\n",
    "uClient = uReq(my_url)\n",
    "page_html = uClient.read()\n",
    "\n",
    "#Close the connection after reading the information\n",
    "uClient.close()"
   ]
  },
  {
   "cell_type": "code",
   "execution_count": 55,
   "metadata": {},
   "outputs": [],
   "source": [
    "#Read the html code using the Soup\n",
    "\n",
    "#soup will give you a structure output\n",
    "page_soup = soup(page_html, \"html.parser\")\n",
    "S = soup(uClient)"
   ]
  },
  {
   "cell_type": "markdown",
   "metadata": {},
   "source": [
    "##### Look for the tag/class/div you are interested in the webpage, in our case it is 'lister-item mode-advanced' class within a division\n",
    "##### We will store this in a set and will make use of it to fetch the required details"
   ]
  },
  {
   "cell_type": "code",
   "execution_count": 56,
   "metadata": {},
   "outputs": [
    {
     "name": "stdout",
     "output_type": "stream",
     "text": [
      "Container Length:  50\n",
      "<div class=\"lister-item mode-advanced\">\n",
      "<div class=\"lister-top-right\">\n",
      "<div class=\"ribbonize\" data-caller=\"filmosearch\" data-tconst=\"tt0111161\"></div>\n",
      "</div>\n",
      "<div class=\"lister-item-image float-left\">\n",
      "<a href=\"/title/tt0111161/\"> <img alt=\"The Shawshank Redemption\" class=\"loadlate\" data-tconst=\"tt0111161\" height=\"98\" loadlate=\"https://m.media-amazon.com/images/M/MV5BMDFkYTc0MGEtZmNhMC00ZDIzLWFmNTEtODM1ZmRlYWMwMWFmXkEyXkFqcGdeQXVyMTMxODk2OTU@._V1_UX67_CR0,0,67,98_AL_.jpg\" src=\"https://m.media-amazon.com/images/S/sash/4FyxwxECzL-U1J8.png\" width=\"67\"/>\n",
      "</a> </div>\n",
      "<div class=\"lister-item-content\">\n",
      "<h3 class=\"lister-item-header\">\n",
      "<span class=\"lister-item-index unbold text-primary\">1.</span>\n",
      "<a href=\"/title/tt0111161/\">The Shawshank Redemption</a>\n",
      "<span class=\"lister-item-year text-muted unbold\">(1994)</span>\n",
      "</h3>\n",
      "<p class=\"text-muted\">\n",
      "<span class=\"certificate\">A</span>\n",
      "<span class=\"ghost\">|</span>\n",
      "<span class=\"runtime\">142 min</span>\n",
      "<span class=\"ghost\">|</span>\n",
      "<span class=\"genre\">\n",
      "Drama            </span>\n",
      "</p>\n",
      "<div class=\"ratings-bar\">\n",
      "<div class=\"inline-block ratings-imdb-rating\" data-value=\"9.3\" name=\"ir\">\n",
      "<span class=\"global-sprite rating-star imdb-rating\"></span>\n",
      "<strong>9.3</strong>\n",
      "</div>\n",
      "<div class=\"inline-block ratings-user-rating\">\n",
      "<span class=\"userRatingValue\" data-tconst=\"tt0111161\" id=\"urv_tt0111161\">\n",
      "<span class=\"global-sprite rating-star no-rating\"></span>\n",
      "<span class=\"rate\" data-no-rating=\"Rate this\" data-value=\"0\" name=\"ur\">Rate this</span>\n",
      "</span>\n",
      "<div class=\"starBarWidget\" id=\"sb_tt0111161\">\n",
      "<div class=\"rating rating-list\" data-csrf-token=\"\" data-ga-identifier=\"\" data-starbar-class=\"rating-list\" data-user=\"\" id=\"tt0111161|imdb|9.3|9.3|adv_li_tt||advsearch|title\" itemprop=\"aggregateRating\" itemscope=\"\" itemtype=\"http://schema.org/AggregateRating\" title=\"Users rated this 9.3/10 (2,380,120 votes) - click stars to rate\">\n",
      "<meta content=\"9.3\" itemprop=\"ratingValue\"/>\n",
      "<meta content=\"10\" itemprop=\"bestRating\"/>\n",
      "<meta content=\"2380120\" itemprop=\"ratingCount\"/>\n",
      "<span class=\"rating-bg\"> </span>\n",
      "<span class=\"rating-imdb\" style=\"width: 130.2px\"> </span>\n",
      "<span class=\"rating-stars\">\n",
      "<a href=\"/register/login?why=vote\" rel=\"nofollow\" title=\"Register or login to rate this title\"><span>1</span></a>\n",
      "<a href=\"/register/login?why=vote\" rel=\"nofollow\" title=\"Register or login to rate this title\"><span>2</span></a>\n",
      "<a href=\"/register/login?why=vote\" rel=\"nofollow\" title=\"Register or login to rate this title\"><span>3</span></a>\n",
      "<a href=\"/register/login?why=vote\" rel=\"nofollow\" title=\"Register or login to rate this title\"><span>4</span></a>\n",
      "<a href=\"/register/login?why=vote\" rel=\"nofollow\" title=\"Register or login to rate this title\"><span>5</span></a>\n",
      "<a href=\"/register/login?why=vote\" rel=\"nofollow\" title=\"Register or login to rate this title\"><span>6</span></a>\n",
      "<a href=\"/register/login?why=vote\" rel=\"nofollow\" title=\"Register or login to rate this title\"><span>7</span></a>\n",
      "<a href=\"/register/login?why=vote\" rel=\"nofollow\" title=\"Register or login to rate this title\"><span>8</span></a>\n",
      "<a href=\"/register/login?why=vote\" rel=\"nofollow\" title=\"Register or login to rate this title\"><span>9</span></a>\n",
      "<a href=\"/register/login?why=vote\" rel=\"nofollow\" title=\"Register or login to rate this title\"><span>10</span></a>\n",
      "</span>\n",
      "<span class=\"rating-rating\"><span class=\"value\">9.3</span><span class=\"grey\">/</span><span class=\"grey\">10</span></span>\n",
      "<span class=\"rating-cancel\"><a href=\"/title/tt0111161/vote\" rel=\"nofollow\" title=\"Delete\"><span>X</span></a></span>\n",
      " </div>\n",
      "</div>\n",
      "</div>\n",
      "<div class=\"inline-block ratings-metascore\">\n",
      "<span class=\"metascore favorable\">80        </span>\n",
      "        Metascore\n",
      "            </div>\n",
      "</div>\n",
      "<p class=\"text-muted\">\n",
      "    Two imprisoned men bond over a number of years, finding solace and eventual redemption through acts of common decency.</p>\n",
      "<p class=\"\">\n",
      "    Director:\n",
      "<a href=\"/name/nm0001104/\">Frank Darabont</a>\n",
      "<span class=\"ghost\">|</span> \n",
      "    Stars:\n",
      "<a href=\"/name/nm0000209/\">Tim Robbins</a>, \n",
      "<a href=\"/name/nm0000151/\">Morgan Freeman</a>, \n",
      "<a href=\"/name/nm0348409/\">Bob Gunton</a>, \n",
      "<a href=\"/name/nm0006669/\">William Sadler</a>\n",
      "</p>\n",
      "<p class=\"sort-num_votes-visible\">\n",
      "<span class=\"text-muted\">Votes:</span>\n",
      "<span data-value=\"2380120\" name=\"nv\">2,380,120</span>\n",
      "<span class=\"ghost\">|</span> <span class=\"text-muted\">Gross:</span>\n",
      "<span data-value=\"28,341,469\" name=\"nv\">$28.34M</span>\n",
      "</p>\n",
      "</div>\n",
      "</div>\n"
     ]
    }
   ],
   "source": [
    "containers = page_soup.findAll(\"div\", {\"class\": \"lister-item mode-advanced\"})\n",
    "print(\"Container Length: \", len(containers))\n",
    "print(containers[0])"
   ]
  },
  {
   "cell_type": "markdown",
   "metadata": {},
   "source": [
    " ##### Now that we have each container, we will fetch the required information from these containes and store the data in a csv"
   ]
  },
  {
   "cell_type": "code",
   "execution_count": 57,
   "metadata": {},
   "outputs": [],
   "source": [
    "#Destination to store the data in\n",
    "file = \"C:\\\\Users\\\\iampu\\\\Documents\\\\Temporary files\\\\imdb_movies.csv\"\n",
    "\n",
    "#Opening the file in write mode\n",
    "f = open(file, \"w\")\n",
    "\n",
    "#Writing the column names to the file\n",
    "headers = \"Name, Year, Runtime\\n\"\n",
    "f.write(headers)\n",
    "\n",
    "#Iterating each of the container to pull required information\n",
    "for container in containers:\n",
    "    name = container.img[\"alt\"]\n",
    "    \n",
    "    #Searching the tag inside a container to get the Year details of the movie\n",
    "    year_movie = container.findAll(\"span\", {\"class\": \"lister-item-year text-muted unbold\"})\n",
    "    #The year_movie variable store the complete tag information, to extract only the year information and store we need\n",
    "    year = year_movie[0].text\n",
    "    \n",
    "    #Extracting the runtime information from each container\n",
    "    runtime_movie = container.findAll(\"span\", {\"class\": \"runtime\"})\n",
    "    \n",
    "    #The run_time variable store the complete tag information, to extract only the runtime information and store we need\n",
    "    runtime = runtime_movie[0].text\n",
    "    \n",
    "    #Writing to the csv file in required format\n",
    "    f.write(name + \",\" + year + \",\" + runtime + \"\\n\")\n",
    "    \n",
    "#Closing the file connection\n",
    "f.close()"
   ]
  },
  {
   "cell_type": "markdown",
   "metadata": {},
   "source": [
    "#### Ensuring the contents from the file are stored as expected using the Panadas dataframe"
   ]
  },
  {
   "cell_type": "code",
   "execution_count": 58,
   "metadata": {},
   "outputs": [
    {
     "data": {
      "text/html": [
       "<div>\n",
       "<style scoped>\n",
       "    .dataframe tbody tr th:only-of-type {\n",
       "        vertical-align: middle;\n",
       "    }\n",
       "\n",
       "    .dataframe tbody tr th {\n",
       "        vertical-align: top;\n",
       "    }\n",
       "\n",
       "    .dataframe thead th {\n",
       "        text-align: right;\n",
       "    }\n",
       "</style>\n",
       "<table border=\"1\" class=\"dataframe\">\n",
       "  <thead>\n",
       "    <tr style=\"text-align: right;\">\n",
       "      <th></th>\n",
       "      <th>Name</th>\n",
       "      <th>Year</th>\n",
       "      <th>Runtime</th>\n",
       "    </tr>\n",
       "  </thead>\n",
       "  <tbody>\n",
       "    <tr>\n",
       "      <th>0</th>\n",
       "      <td>The Shawshank Redemption</td>\n",
       "      <td>(1994)</td>\n",
       "      <td>142 min</td>\n",
       "    </tr>\n",
       "    <tr>\n",
       "      <th>1</th>\n",
       "      <td>The Dark Knight</td>\n",
       "      <td>(2008)</td>\n",
       "      <td>152 min</td>\n",
       "    </tr>\n",
       "    <tr>\n",
       "      <th>2</th>\n",
       "      <td>Inception</td>\n",
       "      <td>(2010)</td>\n",
       "      <td>148 min</td>\n",
       "    </tr>\n",
       "    <tr>\n",
       "      <th>3</th>\n",
       "      <td>Fight Club</td>\n",
       "      <td>(1999)</td>\n",
       "      <td>139 min</td>\n",
       "    </tr>\n",
       "    <tr>\n",
       "      <th>4</th>\n",
       "      <td>Pulp Fiction</td>\n",
       "      <td>(1994)</td>\n",
       "      <td>154 min</td>\n",
       "    </tr>\n",
       "  </tbody>\n",
       "</table>\n",
       "</div>"
      ],
      "text/plain": [
       "                       Name    Year  Runtime\n",
       "0  The Shawshank Redemption  (1994)  142 min\n",
       "1           The Dark Knight  (2008)  152 min\n",
       "2                 Inception  (2010)  148 min\n",
       "3                Fight Club  (1999)  139 min\n",
       "4              Pulp Fiction  (1994)  154 min"
      ]
     },
     "execution_count": 58,
     "metadata": {},
     "output_type": "execute_result"
    }
   ],
   "source": [
    "# Importing required pandas libraries\n",
    "import pandas as pd\n",
    "\n",
    "#Reading the file\n",
    "imdb = pd.read_csv(file, encoding = \"latin1\")\n",
    "\n",
    "#Outputting first file rows of file\n",
    "imdb.head()"
   ]
  }
 ],
 "metadata": {
  "kernelspec": {
   "display_name": "Python 3",
   "language": "python",
   "name": "python3"
  },
  "language_info": {
   "codemirror_mode": {
    "name": "ipython",
    "version": 3
   },
   "file_extension": ".py",
   "mimetype": "text/x-python",
   "name": "python",
   "nbconvert_exporter": "python",
   "pygments_lexer": "ipython3",
   "version": "3.8.5"
  }
 },
 "nbformat": 4,
 "nbformat_minor": 4
}
